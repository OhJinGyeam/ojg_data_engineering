{
 "cells": [
  {
   "cell_type": "code",
   "execution_count": 1,
   "id": "01a80da8-38fd-492e-85e1-78ed090e5818",
   "metadata": {},
   "outputs": [
    {
     "name": "stdout",
     "output_type": "stream",
     "text": [
      "[['physics', 98], ['calculus', 97], ['poetry', 85], ['history', 88]]\n"
     ]
    }
   ],
   "source": [
    "subjects = [\"physics\", \"calculus\", \"poetry\",\"history\"]\n",
    "grades = [98,97,85,88]\n",
    "gradebook = [['physics',98],['calculus',97],['poetry',85],['history',88]]\n",
    "print(gradebook)"
   ]
  },
  {
   "cell_type": "code",
   "execution_count": 3,
   "id": "a8cd8eac-a71f-4bd7-aeae-e756621f0da1",
   "metadata": {},
   "outputs": [],
   "source": [
    "gradebook.append(['computer science',100])\n",
    "gradebook.append(['visual arts',93])"
   ]
  },
  {
   "cell_type": "code",
   "execution_count": 4,
   "id": "b9022773-99b1-4c91-8542-53fdd715eaea",
   "metadata": {},
   "outputs": [
    {
     "name": "stdout",
     "output_type": "stream",
     "text": [
      "[['physics', 98], ['calculus', 97], ['poetry', 85], ['history', 88], ['computer science', 100], ['visual arts', 98], ['computer science', 100], ['visual arts', 93]]\n"
     ]
    }
   ],
   "source": [
    "gradebook[5][1] = 98\n",
    "print(gradebook)"
   ]
  },
  {
   "cell_type": "code",
   "execution_count": 5,
   "id": "618f09d5-07c5-4f95-a161-63a2b412f4a1",
   "metadata": {},
   "outputs": [
    {
     "name": "stdout",
     "output_type": "stream",
     "text": [
      "[['physics', 98], ['calculus', 97], ['poetry'], ['history', 88], ['computer science', 100], ['visual arts', 98], ['computer science', 100], ['visual arts', 93]]\n"
     ]
    }
   ],
   "source": [
    "gradebook[2].remove(85)\n",
    "print(gradebook)"
   ]
  },
  {
   "cell_type": "code",
   "execution_count": 6,
   "id": "12d5387c-2c0f-4fb3-9a2d-e7a1642bd0af",
   "metadata": {},
   "outputs": [
    {
     "name": "stdout",
     "output_type": "stream",
     "text": [
      "[['physics', 98], ['calculus', 97], ['poetry', 'Pass'], ['history', 88], ['computer science', 100], ['visual arts', 98], ['computer science', 100], ['visual arts', 93]]\n"
     ]
    }
   ],
   "source": [
    "gradebook[2].append('Pass')\n",
    "print(gradebook)"
   ]
  },
  {
   "cell_type": "code",
   "execution_count": 7,
   "id": "4ad70b05-54b2-46c7-b224-359e6c951fd5",
   "metadata": {},
   "outputs": [
    {
     "name": "stdout",
     "output_type": "stream",
     "text": [
      "[['politics', 80], ['latin', 96], ['dance', 97], ['archtitcture', 65], ['physics', 98], ['calculus', 97], ['poetry', 'Pass'], ['history', 88], ['computer science', 100], ['visual arts', 98], ['computer science', 100], ['visual arts', 93]]\n"
     ]
    }
   ],
   "source": [
    "last_semester_gradebook = [[\"politics\",80],[\"latin\",96],[\"dance\",97],[\"archtitcture\",65]]\n",
    "full_gradebook = last_semester_gradebook + gradebook\n",
    "print(full_gradebook)"
   ]
  },
  {
   "cell_type": "code",
   "execution_count": null,
   "id": "addb40ea-6afc-4326-8895-84fe6683a18c",
   "metadata": {},
   "outputs": [],
   "source": []
  }
 ],
 "metadata": {
  "kernelspec": {
   "display_name": "Python 3 (ipykernel)",
   "language": "python",
   "name": "python3"
  },
  "language_info": {
   "codemirror_mode": {
    "name": "ipython",
    "version": 3
   },
   "file_extension": ".py",
   "mimetype": "text/x-python",
   "name": "python",
   "nbconvert_exporter": "python",
   "pygments_lexer": "ipython3",
   "version": "3.9.12"
  }
 },
 "nbformat": 4,
 "nbformat_minor": 5
}
